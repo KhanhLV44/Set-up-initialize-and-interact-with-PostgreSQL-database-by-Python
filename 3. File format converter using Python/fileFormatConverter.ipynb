{
 "cells": [
  {
   "cell_type": "code",
   "execution_count": null,
   "metadata": {},
   "outputs": [],
   "source": [
    "import glob\n",
    "'''\n",
    "Module \"glob\" can be used to get the file names or folder names based on certain patterns.\n",
    "'''\n",
    "\n",
    "'''\n",
    "*: match any string of characters (including empty strings).\n",
    "?: match a single character.\n",
    "[...]: match any character within square brackets.\n",
    "**: match any number of folders and subfolders when used with recursive=True.\n",
    "'''\n",
    "glob.glob('D:/DE projects/project/data/retail_db/**', recursive=True)\n",
    "file_names = glob.glob('D:/DE projects/project/data/retail_db/*/*')\n",
    "file_names"
   ]
  },
  {
   "cell_type": "code",
   "execution_count": null,
   "metadata": {},
   "outputs": [],
   "source": [
    "import pandas as pd\n",
    "import json\n",
    "\n",
    "for file_name in file_names:\n",
    "    df_file = pd.read_csv(file_name, header=None)\n",
    "    print(f'Shape of {file_name} is {df_file.shape}')"
   ]
  },
  {
   "cell_type": "code",
   "execution_count": null,
   "metadata": {},
   "outputs": [],
   "source": [
    "def get_column_names(schemas, table_name, sorting_key='column_position'):\n",
    "    column_details = schemas[table_name]\n",
    "    columns = sorted(column_details, key=lambda col: col[sorting_key])\n",
    "    return [col['column_name'] for col in columns]\n",
    "\n",
    "schemas = json.load(open('D:/DE projects/project/data/retail_db/schemas.json'))\n",
    "orders_columns = get_column_names(schemas, 'orders')\n",
    "orders_columns"
   ]
  },
  {
   "cell_type": "code",
   "execution_count": null,
   "metadata": {},
   "outputs": [],
   "source": [
    "import re # Regular expression module.\n",
    "for file in file_names:\n",
    "    patterns = r'/|\\\\' # \"r\" stands for raw string, and \"|\" used to split characters.\n",
    "    print(re.split(patterns, file))"
   ]
  },
  {
   "cell_type": "code",
   "execution_count": null,
   "metadata": {},
   "outputs": [],
   "source": [
    "for file in file_names:\n",
    "    print(f'Processing {file}')\n",
    "    patterns = r'/|\\\\'\n",
    "    file_path_list = re.split(patterns, file)\n",
    "    table_name = file_path_list[-2]\n",
    "    columns = get_column_names(schemas, table_name)\n",
    "    df = pd.read_csv(file, names=columns)\n",
    "    print(f'Shape of {table_name} is {df.shape}')\n",
    "\n",
    "df"
   ]
  },
  {
   "cell_type": "code",
   "execution_count": 18,
   "metadata": {},
   "outputs": [
    {
     "name": "stdout",
     "output_type": "stream",
     "text": [
      "D:/DE projects/project/data/retail_db_json/categories/part-00000\n",
      "D:/DE projects/project/data/retail_db_json/customers/part-00000\n",
      "D:/DE projects/project/data/retail_db_json/departments/part-00000\n",
      "D:/DE projects/project/data/retail_db_json/orders/part-00000\n",
      "D:/DE projects/project/data/retail_db_json/order_items/part-00000\n",
      "D:/DE projects/project/data/retail_db_json/products/part-00000\n"
     ]
    }
   ],
   "source": [
    "# Generate file paths for JSON files dynamically.\n",
    "tgt_base_dir = 'D:/DE projects/project/data/retail_db_json'\n",
    "\n",
    "for file in file_names:\n",
    "    patterns = r'/|\\\\'\n",
    "    file_path_list = re.split(patterns, file)\n",
    "    table_name = file_path_list[-2]\n",
    "    file_name = file_path_list[-1]\n",
    "    json_file_path = f'{tgt_base_dir}/{table_name}/{file_name}'\n",
    "    print(json_file_path)"
   ]
  },
  {
   "cell_type": "code",
   "execution_count": 19,
   "metadata": {},
   "outputs": [
    {
     "name": "stdout",
     "output_type": "stream",
     "text": [
      "Processing D:/DE projects/project/data/retail_db\\categories\\part-00000\n",
      "Processing D:/DE projects/project/data/retail_db\\customers\\part-00000\n",
      "Processing D:/DE projects/project/data/retail_db\\departments\\part-00000\n",
      "Processing D:/DE projects/project/data/retail_db\\orders\\part-00000\n",
      "Processing D:/DE projects/project/data/retail_db\\order_items\\part-00000\n",
      "Processing D:/DE projects/project/data/retail_db\\products\\part-00000\n"
     ]
    }
   ],
   "source": [
    "# Write Pandas dataframe to JSON files.\n",
    "import os\n",
    "tgt_base_dir = 'D:/DE projects/project/data/retail_db_json'\n",
    "for file in file_names:\n",
    "    print(f'Processing {file}')\n",
    "    patterns = r'/|\\\\'\n",
    "    file_path_list = re.split(patterns, file)\n",
    "    table_name = file_path_list[-2]\n",
    "    file_name = file_path_list[-1]\n",
    "    json_file_path = f'{tgt_base_dir}/{table_name}/{file_name}'\n",
    "    columns = get_column_names(schemas, table_name)\n",
    "    df = pd.read_csv(file, names=columns)\n",
    "    os.makedirs(f'{tgt_base_dir}/{table_name}', exist_ok=True)\n",
    "    df.to_json(\n",
    "        json_file_path,\n",
    "        orient='records',\n",
    "        lines=True\n",
    "    )"
   ]
  },
  {
   "cell_type": "code",
   "execution_count": 29,
   "metadata": {},
   "outputs": [
    {
     "name": "stdout",
     "output_type": "stream",
     "text": [
      "Processing departments\n",
      "Processing categories\n",
      "Processing orders\n",
      "Processing products\n",
      "Processing customers\n",
      "Processing order_items\n"
     ]
    }
   ],
   "source": [
    "# Modularize file format converter for dataset.\n",
    "import glob\n",
    "import os\n",
    "import json\n",
    "import re\n",
    "import pandas as pd\n",
    "\n",
    "def get_column_names(schemas, table_name, sorting_key='column_position'):\n",
    "    column_details = schemas[table_name]\n",
    "    columns = sorted(column_details, key=lambda col: col[sorting_key])\n",
    "    return [col['column_name'] for col in columns]\n",
    "\n",
    "def read_csv(file, schemas):\n",
    "    patterns = r'/|\\\\'\n",
    "    file_path_list = re.split(patterns, file)\n",
    "    table_name = file_path_list[-2]\n",
    "    file_name = file_path_list[-1]\n",
    "    columns = get_column_names(schemas, table_name)\n",
    "    df = pd.read_csv(file, names=columns)\n",
    "    return df\n",
    "\n",
    "def to_json(df, tgt_base_dir, table_name, file_name):\n",
    "    json_file_path = f'{tgt_base_dir}/{table_name}/{file_name}'\n",
    "    os.makedirs(f'{tgt_base_dir}/{table_name}', exist_ok=True)\n",
    "    df.to_json(\n",
    "        json_file_path,\n",
    "        orient='records',\n",
    "        lines=True\n",
    "    )\n",
    "\n",
    "def file_converter(src_base_dir, tgt_base_dir, table_name):\n",
    "    schemas = json.load(open(f'{src_base_dir}/schemas.json'))\n",
    "    files = glob.glob(f'{src_base_dir}/{table_name}/*')\n",
    "\n",
    "    for file in files:\n",
    "        df = read_csv(file, schemas)\n",
    "        patterns = r'/|\\\\'\n",
    "        file_name = re.split(patterns, file)[-1]\n",
    "        to_json(df, tgt_base_dir, table_name, file_name)\n",
    "\n",
    "def process_files(table_names=None):\n",
    "    src_base_dir = 'D:/DE projects/project/data/retail_db'\n",
    "    tgt_base_dir = 'D:/DE projects/project/data/retail_db_json'\n",
    "    schemas = json.load(open(f'{src_base_dir}/schemas.json'))\n",
    "\n",
    "    if not table_names:\n",
    "        table_names = schemas.keys()\n",
    "    \n",
    "    for table_name in table_names:\n",
    "        print(f'Processing {table_name}')\n",
    "        file_converter(src_base_dir, tgt_base_dir, table_name)\n",
    "\n",
    "process_files()"
   ]
  },
  {
   "cell_type": "markdown",
   "metadata": {},
   "source": [
    "**THE END!** (8 cells total)"
   ]
  }
 ],
 "metadata": {
  "kernelspec": {
   "display_name": "Python 3",
   "language": "python",
   "name": "python3"
  },
  "language_info": {
   "codemirror_mode": {
    "name": "ipython",
    "version": 3
   },
   "file_extension": ".py",
   "mimetype": "text/x-python",
   "name": "python",
   "nbconvert_exporter": "python",
   "pygments_lexer": "ipython3",
   "version": "3.12.2"
  }
 },
 "nbformat": 4,
 "nbformat_minor": 2
}
