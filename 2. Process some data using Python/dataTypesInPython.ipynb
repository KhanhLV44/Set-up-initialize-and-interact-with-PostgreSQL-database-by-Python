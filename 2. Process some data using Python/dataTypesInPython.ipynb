{
 "cells": [
  {
   "cell_type": "code",
   "execution_count": null,
   "metadata": {},
   "outputs": [],
   "source": [
    "help(open)\n",
    "dir(open)"
   ]
  },
  {
   "cell_type": "code",
   "execution_count": 9,
   "metadata": {},
   "outputs": [
    {
     "name": "stdout",
     "output_type": "stream",
     "text": [
      "68883 <class 'list'>\n"
     ]
    }
   ],
   "source": [
    "# Python datatypes: list, set, tuple, dict.\n",
    "\n",
    "orders_file = open('D:/DE projects/project/data/retail_db/orders/part-00000', 'r')\n",
    "orders_str = orders_file.read()\n",
    "orders = orders_str.splitlines()\n",
    "\n",
    "print(len(orders), type(orders))"
   ]
  },
  {
   "cell_type": "code",
   "execution_count": 10,
   "metadata": {},
   "outputs": [
    {
     "name": "stdout",
     "output_type": "stream",
     "text": [
      "[1.0, 3.0, 6.0, 10.0]\n",
      "[1.0, 3.0, 6.0, 10.0]\n"
     ]
    }
   ],
   "source": [
    "l0 = [1, 2, 3, 4]\n",
    "print([(n*(n+1))/2 for n in l0])\n",
    "\n",
    "func = lambda n: (n*(n+1))/2\n",
    "l1 = [func(n) for n in l0]\n",
    "print(l1)"
   ]
  },
  {
   "cell_type": "code",
   "execution_count": null,
   "metadata": {},
   "outputs": [],
   "source": [
    "l3 = list(map(func, l0))\n",
    "print(l3)\n",
    "\n",
    "l4 = list(filter(lambda order: order.split(',')[3] in ('COMPLETE', 'CLOSED'), orders))\n",
    "print(len(l4))\n",
    "\n",
    "# Get unique values.\n",
    "s0 = set(map(lambda order: order.split(',')[3], orders))\n",
    "print(s0)\n",
    "\n",
    "# Sorting Python list using key.\n",
    "sorted(orders, key=lambda order: int(order.split(',')[2]), reverse=True)"
   ]
  },
  {
   "cell_type": "code",
   "execution_count": 19,
   "metadata": {},
   "outputs": [
    {
     "name": "stdout",
     "output_type": "stream",
     "text": [
      "{'order_id': 1, 'order_date': '2013-07-25'}\n",
      "{'order_id': 1, 'order_date': '2013-07-25'}\n",
      "['Dallas', 'Frisco', 'Hyderabad']\n"
     ]
    }
   ],
   "source": [
    "# JSON strings and files.\n",
    "\n",
    "# JSON strings.\n",
    "order_jd1 = \"{\\\"order_id\\\": 1, \\\"order_date\\\": \\\"2013-07-25\\\"}\"\n",
    "order_jd2 = '{\"order_id\": 1, \"order_date\": \"2013-07-25\"}'\n",
    "cities_ja = \"[\\\"Dallas\\\", \\\"Frisco\\\", \\\"Hyderabad\\\"]\"\n",
    "\n",
    "# Read JSON strings to dicts or lists.\n",
    "import json\n",
    "order1 = json.loads(order_jd1)\n",
    "order2 = json.loads(order_jd2)\n",
    "cities = json.loads(cities_ja)\n",
    "print(order1)\n",
    "print(order2)\n",
    "print(cities)"
   ]
  },
  {
   "cell_type": "code",
   "execution_count": 21,
   "metadata": {},
   "outputs": [
    {
     "name": "stdout",
     "output_type": "stream",
     "text": [
      "{'departments': [{'column_name': 'department_id', 'data_type': 'integer', 'column_position': 1}, {'column_name': 'department_name', 'data_type': 'string', 'column_position': 2}], 'categories': [{'column_name': 'category_id', 'data_type': 'integer', 'column_position': 1}, {'column_name': 'category_department_id', 'data_type': 'integer', 'column_position': 2}, {'column_name': 'category_name', 'data_type': 'string', 'column_position': 3}], 'orders': [{'column_name': 'order_id', 'data_type': 'integer', 'column_position': 1}, {'column_name': 'order_date', 'data_type': 'string', 'column_position': 2}, {'column_name': 'order_customer_id', 'data_type': 'timestamp', 'column_position': 3}, {'column_name': 'order_status', 'data_type': 'string', 'column_position': 4}], 'products': [{'column_name': 'product_id', 'data_type': 'integer', 'column_position': 1}, {'column_name': 'product_cateogry_id', 'data_type': 'integer', 'column_position': 2}, {'column_name': 'product_name', 'data_type': '', 'column_position': 3}, {'column_name': 'product_description', 'data_type': 'string', 'column_position': 4}, {'column_name': 'product_price', 'data_type': 'float', 'column_position': 5}, {'column_name': 'product_image', 'data_type': 'string', 'column_position': 6}], 'customers': [{'column_name': 'customer_id', 'data_type': 'integer', 'column_position': 1}, {'column_name': 'customer_fname', 'data_type': 'string', 'column_position': 2}, {'column_name': 'customer_lname', 'data_type': 'string', 'column_position': 3}, {'column_name': 'customer_email', 'data_type': 'string', 'column_position': 4}, {'column_name': 'customer_password', 'data_type': 'string', 'column_position': 5}, {'column_name': 'customer_street', 'data_type': 'string', 'column_position': 6}, {'column_name': 'customer_city', 'data_type': 'string', 'column_position': 7}, {'column_name': 'customer_state', 'data_type': 'string', 'column_position': 8}, {'column_name': 'customer_zipcode', 'data_type': 'integer', 'column_position': 9}], 'order_items': [{'column_name': 'order_item_id', 'data_type': 'integer', 'column_position': 1}, {'column_name': 'order_item_order_id', 'data_type': 'integer', 'column_position': 2}, {'column_name': 'order_item_product_id', 'data_type': 'integer', 'column_position': 3}, {'column_name': 'order_item_quantity', 'data_type': 'integer', 'column_position': 4}, {'column_name': 'order_item_subtotal', 'data_type': 'float', 'column_position': 5}, {'column_name': 'order_item_product_price', 'data_type': 'float', 'column_position': 6}]}\n",
      "Schemas' keys:\n",
      " dict_keys(['departments', 'categories', 'orders', 'products', 'customers', 'order_items'])\n",
      "Orders' column:\n",
      " [{'column_name': 'order_id', 'data_type': 'integer', 'column_position': 1}, {'column_name': 'order_date', 'data_type': 'string', 'column_position': 2}, {'column_name': 'order_customer_id', 'data_type': 'timestamp', 'column_position': 3}, {'column_name': 'order_status', 'data_type': 'string', 'column_position': 4}]\n"
     ]
    }
   ],
   "source": [
    "file_path = 'D:/DE projects/project/data/retail_db/schemas.json'\n",
    "schemas = json.load(open(file_path, 'r'))\n",
    "print(schemas)\n",
    "print(\"Schemas' keys:\\n\", schemas.keys())\n",
    "print(\"Orders' column:\\n\", schemas.get('orders')) # or schemas['orders']"
   ]
  },
  {
   "cell_type": "code",
   "execution_count": 22,
   "metadata": {},
   "outputs": [
    {
     "data": {
      "text/plain": [
       "['order_id', 'order_date', 'order_customer_id', 'order_status']"
      ]
     },
     "execution_count": 22,
     "metadata": {},
     "output_type": "execute_result"
    }
   ],
   "source": [
    "# Extract details from complex JSON arrays.\n",
    "column_details = schemas['orders']\n",
    "[col['column_name'] for col in column_details]"
   ]
  },
  {
   "cell_type": "markdown",
   "metadata": {},
   "source": [
    "**THE END!** (7 cells total)"
   ]
  }
 ],
 "metadata": {
  "kernelspec": {
   "display_name": "Python 3",
   "language": "python",
   "name": "python3"
  },
  "language_info": {
   "codemirror_mode": {
    "name": "ipython",
    "version": 3
   },
   "file_extension": ".py",
   "mimetype": "text/x-python",
   "name": "python",
   "nbconvert_exporter": "python",
   "pygments_lexer": "ipython3",
   "version": "3.12.2"
  }
 },
 "nbformat": 4,
 "nbformat_minor": 2
}
